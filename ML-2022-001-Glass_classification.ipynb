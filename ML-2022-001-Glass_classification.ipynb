{
 "cells": [
  {
   "cell_type": "markdown",
   "id": "8ae0bc15-16a3-4d62-b419-698db1d6481d",
   "metadata": {
    "tags": []
   },
   "source": [
    "# Table of contents\n",
    "[1 - Introduction](https://github.com/ildeniz/ML-2022-001-Glass_classification/blob/main/ML-2022-001-Glass_classification#chapter1)\\\n",
    "[2 - Loading libraries and data exploration](https://github.com/ildeniz/ML-2022-001-Glass_classification/blob/main/ML-2022-001-Glass_classification#chapter2)\\\n",
    "[3 - Models](https://github.com/ildeniz/ML-2022-001-Glass_classification/blob/main/ML-2022-001-Glass_classification#chapter3)\\\n",
    "[4 - Results](#3_-_)"
   ]
  },
  {
   "cell_type": "markdown",
   "id": "2ea7902f-d336-430a-b405-61af6f536748",
   "metadata": {},
   "source": [
    "# 0 - Abstract"
   ]
  },
  {
   "cell_type": "code",
   "execution_count": null,
   "id": "11a45d73-d07b-4ccb-85a2-919069b2a5ca",
   "metadata": {},
   "outputs": [],
   "source": []
  },
  {
   "cell_type": "markdown",
   "id": "55a652d9-0033-4468-a0c0-11c1181bea18",
   "metadata": {
    "tags": []
   },
   "source": [
    "# 1 - Introduction <a class=\"anchor\" id=\"chapter1\"></a>"
   ]
  },
  {
   "cell_type": "markdown",
   "id": "7f57fac4-aef3-4101-9826-6d28ecd15895",
   "metadata": {},
   "source": [
    "The purpose of this study is to define the type of a glass depending on the given features which are also ingredients in each glass sample and refractive index (RI). There are seven type of glasses but type-4 is omitted from the data set hence there are six type of glass in the data set.\n",
    "\n",
    "The motivation behind the glass classification is given by the contributor as;\n",
    ">The study of classification of types of glass was motivated by\n",
    "criminological investigation. At the scene of the crime, the glass left\n",
    "can be used as evidence…if it is correctly identified!\n",
    "\n",
    "The data set used in this work is obtained from;\n",
    "- https://archive.ics.uci.edu/ml/datasets/Glass+Identification\n",
    "- https://www.kaggle.com/datasets/uciml/glass\n",
    "\n",
    "Columns names and also the ingredients are:\n",
    "- RI: refractive index\n",
    "- Na: Sodium (unit measurement: weight percent in corresponding oxide, as are attributes 4-10)\n",
    "- Mg: Magnesium\n",
    "- Al: Aluminum\n",
    "- Si: Silicon\n",
    "- K: Potassium\n",
    "- Ca: Calcium\n",
    "- Ba: Barium\n",
    "- Fe: Iron\n",
    "- Type of glass: (class attribute)\n",
    "    - 1 building*windows*float*processed*\n",
    "    - 2 building*windows*non*float*processed\n",
    "    - 3 vehicle*windows*float*processed*\n",
    "    - ~~4 vehicle*windows*non*float*processed~~ (none in this database)\n",
    "    - 5 containers\n",
    "    - 6 tableware\n",
    "    - 7 headlamps\n",
    "\n",
    "Data exploration of this dataset reveals two important characteristics :\n",
    "1) The variables are highly corelated with each other including the response variables:\n",
    "So which kind of ML algorithm is most suitable for this dataset Random Forest , KNN or other? Also since dataset is too small is there any chance of applying PCA or it should be completely avoided?\n",
    "\n",
    "2) Highly Skewed Data:\n",
    "Is scaling sufficient or are there any other techniques which should be applied to normalize data? Like BOX-COX Power transformation?"
   ]
  },
  {
   "cell_type": "markdown",
   "id": "4a9b044c-cd78-4b0e-8ec5-dd7b138ce601",
   "metadata": {},
   "source": [
    "# 2 - Loading libraries and data exploration <a class=\"anchor\" id=\"chapter2\"></a>"
   ]
  },
  {
   "cell_type": "markdown",
   "id": "dc2f93c9-6d52-4e10-9b0f-dda89dc28e9f",
   "metadata": {},
   "source": [
    "Loading libraries and packages to be used"
   ]
  },
  {
   "cell_type": "code",
   "execution_count": 21,
   "id": "b90c1759-6374-4c98-b046-7e7387bf20da",
   "metadata": {},
   "outputs": [],
   "source": [
    "import pandas as pd # To read the data set and data preprocessing.\n",
    "import numpy as np # \n",
    "import matplotlib.pyplot as plt\n",
    "import seaborn as sns #\n",
    "%matplotlib inline\n",
    "\n",
    "from sklearn.metrics import mean_absolute_error\n",
    "from sklearn.ensemble import RandomForestRegressor"
   ]
  },
  {
   "cell_type": "code",
   "execution_count": 29,
   "id": "05eebf9e-ce1f-4699-b3ec-79ee57b969a3",
   "metadata": {},
   "outputs": [
    {
     "name": "stdout",
     "output_type": "stream",
     "text": [
      "This data set is consistent of 214 observations and 10 columns.\n"
     ]
    }
   ],
   "source": [
    "glass = pd.read_csv('Data/glass.csv') # importing the dataset\n",
    "glass.shape\n",
    "print('This data set is consistent of',glass.shape[0], 'observations and', glass.shape[1], 'columns.')"
   ]
  },
  {
   "cell_type": "markdown",
   "id": "5dcc6cd9-202d-4b3d-863e-a796596bbe7a",
   "metadata": {},
   "source": [
    "With only 214 observations, one can say that this data set is too small to acquire good results so one should apply resampling methods such as `K-fold Cross-validation` or `Bootstrap`"
   ]
  },
  {
   "cell_type": "code",
   "execution_count": 23,
   "id": "252f9c33-24c6-40ea-be8c-981c546decb2",
   "metadata": {},
   "outputs": [
    {
     "data": {
      "text/html": [
       "<div>\n",
       "<style scoped>\n",
       "    .dataframe tbody tr th:only-of-type {\n",
       "        vertical-align: middle;\n",
       "    }\n",
       "\n",
       "    .dataframe tbody tr th {\n",
       "        vertical-align: top;\n",
       "    }\n",
       "\n",
       "    .dataframe thead th {\n",
       "        text-align: right;\n",
       "    }\n",
       "</style>\n",
       "<table border=\"1\" class=\"dataframe\">\n",
       "  <thead>\n",
       "    <tr style=\"text-align: right;\">\n",
       "      <th></th>\n",
       "      <th>RI</th>\n",
       "      <th>Na</th>\n",
       "      <th>Mg</th>\n",
       "      <th>Al</th>\n",
       "      <th>Si</th>\n",
       "      <th>K</th>\n",
       "      <th>Ca</th>\n",
       "      <th>Ba</th>\n",
       "      <th>Fe</th>\n",
       "      <th>Type</th>\n",
       "    </tr>\n",
       "  </thead>\n",
       "  <tbody>\n",
       "    <tr>\n",
       "      <th>0</th>\n",
       "      <td>1.52101</td>\n",
       "      <td>13.64</td>\n",
       "      <td>4.49</td>\n",
       "      <td>1.10</td>\n",
       "      <td>71.78</td>\n",
       "      <td>0.06</td>\n",
       "      <td>8.75</td>\n",
       "      <td>0.0</td>\n",
       "      <td>0.0</td>\n",
       "      <td>1</td>\n",
       "    </tr>\n",
       "    <tr>\n",
       "      <th>1</th>\n",
       "      <td>1.51761</td>\n",
       "      <td>13.89</td>\n",
       "      <td>3.60</td>\n",
       "      <td>1.36</td>\n",
       "      <td>72.73</td>\n",
       "      <td>0.48</td>\n",
       "      <td>7.83</td>\n",
       "      <td>0.0</td>\n",
       "      <td>0.0</td>\n",
       "      <td>1</td>\n",
       "    </tr>\n",
       "    <tr>\n",
       "      <th>2</th>\n",
       "      <td>1.51618</td>\n",
       "      <td>13.53</td>\n",
       "      <td>3.55</td>\n",
       "      <td>1.54</td>\n",
       "      <td>72.99</td>\n",
       "      <td>0.39</td>\n",
       "      <td>7.78</td>\n",
       "      <td>0.0</td>\n",
       "      <td>0.0</td>\n",
       "      <td>1</td>\n",
       "    </tr>\n",
       "    <tr>\n",
       "      <th>3</th>\n",
       "      <td>1.51766</td>\n",
       "      <td>13.21</td>\n",
       "      <td>3.69</td>\n",
       "      <td>1.29</td>\n",
       "      <td>72.61</td>\n",
       "      <td>0.57</td>\n",
       "      <td>8.22</td>\n",
       "      <td>0.0</td>\n",
       "      <td>0.0</td>\n",
       "      <td>1</td>\n",
       "    </tr>\n",
       "    <tr>\n",
       "      <th>4</th>\n",
       "      <td>1.51742</td>\n",
       "      <td>13.27</td>\n",
       "      <td>3.62</td>\n",
       "      <td>1.24</td>\n",
       "      <td>73.08</td>\n",
       "      <td>0.55</td>\n",
       "      <td>8.07</td>\n",
       "      <td>0.0</td>\n",
       "      <td>0.0</td>\n",
       "      <td>1</td>\n",
       "    </tr>\n",
       "  </tbody>\n",
       "</table>\n",
       "</div>"
      ],
      "text/plain": [
       "        RI     Na    Mg    Al     Si     K    Ca   Ba   Fe  Type\n",
       "0  1.52101  13.64  4.49  1.10  71.78  0.06  8.75  0.0  0.0     1\n",
       "1  1.51761  13.89  3.60  1.36  72.73  0.48  7.83  0.0  0.0     1\n",
       "2  1.51618  13.53  3.55  1.54  72.99  0.39  7.78  0.0  0.0     1\n",
       "3  1.51766  13.21  3.69  1.29  72.61  0.57  8.22  0.0  0.0     1\n",
       "4  1.51742  13.27  3.62  1.24  73.08  0.55  8.07  0.0  0.0     1"
      ]
     },
     "execution_count": 23,
     "metadata": {},
     "output_type": "execute_result"
    }
   ],
   "source": [
    "glass.head()"
   ]
  },
  {
   "cell_type": "code",
   "execution_count": 5,
   "id": "c7924c9c-ff60-4197-a751-58e2e28c9766",
   "metadata": {},
   "outputs": [],
   "source": [
    "#df.tail()"
   ]
  },
  {
   "cell_type": "markdown",
   "id": "12abe220-4195-4c06-8b77-3fb8c4e10c56",
   "metadata": {},
   "source": [
    "Selec the features and target"
   ]
  },
  {
   "cell_type": "code",
   "execution_count": 39,
   "id": "70c48e79-53a9-4955-8848-8ec17ecd2d92",
   "metadata": {},
   "outputs": [
    {
     "data": {
      "text/plain": [
       "Index(['RI', 'Na', 'Mg', 'Al', 'Si', 'K', 'Ca', 'Ba', 'Fe', 'Type'], dtype='object')"
      ]
     },
     "execution_count": 39,
     "metadata": {},
     "output_type": "execute_result"
    }
   ],
   "source": [
    "glass.columns"
   ]
  },
  {
   "cell_type": "code",
   "execution_count": 40,
   "id": "8eedff45-5f57-47c0-84e7-ea7ef325c69c",
   "metadata": {},
   "outputs": [],
   "source": [
    "# To create features from the original dataset\n",
    "\n",
    "# #features = df.columns[:-1].tolist()\n",
    "# target = 'Type'\n",
    "\n",
    "# features = glass.drop([target], axis=1).columns.tolist()\n",
    "# features"
   ]
  },
  {
   "cell_type": "code",
   "execution_count": 26,
   "id": "65ca4f79-0ded-4044-974c-76e30db1b0b9",
   "metadata": {},
   "outputs": [
    {
     "data": {
      "text/html": [
       "<div>\n",
       "<style scoped>\n",
       "    .dataframe tbody tr th:only-of-type {\n",
       "        vertical-align: middle;\n",
       "    }\n",
       "\n",
       "    .dataframe tbody tr th {\n",
       "        vertical-align: top;\n",
       "    }\n",
       "\n",
       "    .dataframe thead th {\n",
       "        text-align: right;\n",
       "    }\n",
       "</style>\n",
       "<table border=\"1\" class=\"dataframe\">\n",
       "  <thead>\n",
       "    <tr style=\"text-align: right;\">\n",
       "      <th></th>\n",
       "      <th>count</th>\n",
       "      <th>mean</th>\n",
       "      <th>std</th>\n",
       "      <th>min</th>\n",
       "      <th>25%</th>\n",
       "      <th>50%</th>\n",
       "      <th>75%</th>\n",
       "      <th>max</th>\n",
       "    </tr>\n",
       "  </thead>\n",
       "  <tbody>\n",
       "    <tr>\n",
       "      <th>RI</th>\n",
       "      <td>214.0</td>\n",
       "      <td>1.518365</td>\n",
       "      <td>0.003037</td>\n",
       "      <td>1.51115</td>\n",
       "      <td>1.516522</td>\n",
       "      <td>1.51768</td>\n",
       "      <td>1.519157</td>\n",
       "      <td>1.53393</td>\n",
       "    </tr>\n",
       "    <tr>\n",
       "      <th>Na</th>\n",
       "      <td>214.0</td>\n",
       "      <td>13.407850</td>\n",
       "      <td>0.816604</td>\n",
       "      <td>10.73000</td>\n",
       "      <td>12.907500</td>\n",
       "      <td>13.30000</td>\n",
       "      <td>13.825000</td>\n",
       "      <td>17.38000</td>\n",
       "    </tr>\n",
       "    <tr>\n",
       "      <th>Mg</th>\n",
       "      <td>214.0</td>\n",
       "      <td>2.684533</td>\n",
       "      <td>1.442408</td>\n",
       "      <td>0.00000</td>\n",
       "      <td>2.115000</td>\n",
       "      <td>3.48000</td>\n",
       "      <td>3.600000</td>\n",
       "      <td>4.49000</td>\n",
       "    </tr>\n",
       "    <tr>\n",
       "      <th>Al</th>\n",
       "      <td>214.0</td>\n",
       "      <td>1.444907</td>\n",
       "      <td>0.499270</td>\n",
       "      <td>0.29000</td>\n",
       "      <td>1.190000</td>\n",
       "      <td>1.36000</td>\n",
       "      <td>1.630000</td>\n",
       "      <td>3.50000</td>\n",
       "    </tr>\n",
       "    <tr>\n",
       "      <th>Si</th>\n",
       "      <td>214.0</td>\n",
       "      <td>72.650935</td>\n",
       "      <td>0.774546</td>\n",
       "      <td>69.81000</td>\n",
       "      <td>72.280000</td>\n",
       "      <td>72.79000</td>\n",
       "      <td>73.087500</td>\n",
       "      <td>75.41000</td>\n",
       "    </tr>\n",
       "    <tr>\n",
       "      <th>K</th>\n",
       "      <td>214.0</td>\n",
       "      <td>0.497056</td>\n",
       "      <td>0.652192</td>\n",
       "      <td>0.00000</td>\n",
       "      <td>0.122500</td>\n",
       "      <td>0.55500</td>\n",
       "      <td>0.610000</td>\n",
       "      <td>6.21000</td>\n",
       "    </tr>\n",
       "    <tr>\n",
       "      <th>Ca</th>\n",
       "      <td>214.0</td>\n",
       "      <td>8.956963</td>\n",
       "      <td>1.423153</td>\n",
       "      <td>5.43000</td>\n",
       "      <td>8.240000</td>\n",
       "      <td>8.60000</td>\n",
       "      <td>9.172500</td>\n",
       "      <td>16.19000</td>\n",
       "    </tr>\n",
       "    <tr>\n",
       "      <th>Ba</th>\n",
       "      <td>214.0</td>\n",
       "      <td>0.175047</td>\n",
       "      <td>0.497219</td>\n",
       "      <td>0.00000</td>\n",
       "      <td>0.000000</td>\n",
       "      <td>0.00000</td>\n",
       "      <td>0.000000</td>\n",
       "      <td>3.15000</td>\n",
       "    </tr>\n",
       "    <tr>\n",
       "      <th>Fe</th>\n",
       "      <td>214.0</td>\n",
       "      <td>0.057009</td>\n",
       "      <td>0.097439</td>\n",
       "      <td>0.00000</td>\n",
       "      <td>0.000000</td>\n",
       "      <td>0.00000</td>\n",
       "      <td>0.100000</td>\n",
       "      <td>0.51000</td>\n",
       "    </tr>\n",
       "    <tr>\n",
       "      <th>Type</th>\n",
       "      <td>214.0</td>\n",
       "      <td>2.780374</td>\n",
       "      <td>2.103739</td>\n",
       "      <td>1.00000</td>\n",
       "      <td>1.000000</td>\n",
       "      <td>2.00000</td>\n",
       "      <td>3.000000</td>\n",
       "      <td>7.00000</td>\n",
       "    </tr>\n",
       "  </tbody>\n",
       "</table>\n",
       "</div>"
      ],
      "text/plain": [
       "      count       mean       std       min        25%       50%        75%  \\\n",
       "RI    214.0   1.518365  0.003037   1.51115   1.516522   1.51768   1.519157   \n",
       "Na    214.0  13.407850  0.816604  10.73000  12.907500  13.30000  13.825000   \n",
       "Mg    214.0   2.684533  1.442408   0.00000   2.115000   3.48000   3.600000   \n",
       "Al    214.0   1.444907  0.499270   0.29000   1.190000   1.36000   1.630000   \n",
       "Si    214.0  72.650935  0.774546  69.81000  72.280000  72.79000  73.087500   \n",
       "K     214.0   0.497056  0.652192   0.00000   0.122500   0.55500   0.610000   \n",
       "Ca    214.0   8.956963  1.423153   5.43000   8.240000   8.60000   9.172500   \n",
       "Ba    214.0   0.175047  0.497219   0.00000   0.000000   0.00000   0.000000   \n",
       "Fe    214.0   0.057009  0.097439   0.00000   0.000000   0.00000   0.100000   \n",
       "Type  214.0   2.780374  2.103739   1.00000   1.000000   2.00000   3.000000   \n",
       "\n",
       "           max  \n",
       "RI     1.53393  \n",
       "Na    17.38000  \n",
       "Mg     4.49000  \n",
       "Al     3.50000  \n",
       "Si    75.41000  \n",
       "K      6.21000  \n",
       "Ca    16.19000  \n",
       "Ba     3.15000  \n",
       "Fe     0.51000  \n",
       "Type   7.00000  "
      ]
     },
     "execution_count": 26,
     "metadata": {},
     "output_type": "execute_result"
    }
   ],
   "source": [
    "glass.describe().T"
   ]
  },
  {
   "cell_type": "code",
   "execution_count": 38,
   "id": "25e6beaa-26ca-4c42-b27b-1feb5fc6ea43",
   "metadata": {},
   "outputs": [
    {
     "data": {
      "text/plain": [
       "2    76\n",
       "1    70\n",
       "7    29\n",
       "3    17\n",
       "5    13\n",
       "6     9\n",
       "Name: Type, dtype: int64"
      ]
     },
     "execution_count": 38,
     "metadata": {},
     "output_type": "execute_result"
    }
   ],
   "source": [
    "glass.Type.value_counts()"
   ]
  },
  {
   "cell_type": "code",
   "execution_count": 11,
   "id": "21a4835b-187f-4cdc-aa3a-28d8245693ab",
   "metadata": {},
   "outputs": [
    {
     "data": {
      "text/plain": [
       "RI      178\n",
       "Na      142\n",
       "Mg       94\n",
       "Al      118\n",
       "Si      133\n",
       "K        65\n",
       "Ca      143\n",
       "Ba       34\n",
       "Fe       32\n",
       "Type      6\n",
       "dtype: int64"
      ]
     },
     "execution_count": 11,
     "metadata": {},
     "output_type": "execute_result"
    }
   ],
   "source": [
    "glass.nunique() #To evaluate the cardinality of non-numeric columns"
   ]
  },
  {
   "cell_type": "code",
   "execution_count": 31,
   "id": "c66224a9-c948-4879-8761-e09b88473455",
   "metadata": {},
   "outputs": [
    {
     "data": {
      "text/plain": [
       "array([1, 2, 3, 5, 6, 7], dtype=int64)"
      ]
     },
     "execution_count": 31,
     "metadata": {},
     "output_type": "execute_result"
    }
   ],
   "source": [
    "glass.Type.unique()"
   ]
  },
  {
   "cell_type": "markdown",
   "id": "4f5488f1-f7eb-4c3e-8a5f-012c3fd53200",
   "metadata": {
    "tags": []
   },
   "source": [
    "# 1 - EDA"
   ]
  },
  {
   "cell_type": "markdown",
   "id": "b1b8ad0b-3c76-4de9-aa86-b61b922dc620",
   "metadata": {},
   "source": [
    "One should inspect if there is any categorical variables."
   ]
  },
  {
   "cell_type": "code",
   "execution_count": 32,
   "id": "fd0e8a31-8e75-4a88-8f98-a3ad22fce779",
   "metadata": {},
   "outputs": [
    {
     "name": "stdout",
     "output_type": "stream",
     "text": [
      "The data frame does not include categorical variables.\n"
     ]
    }
   ],
   "source": [
    "# Get list of categorical variables\n",
    "s = (glass.dtypes == 'object')\n",
    "object_cols = list(s[s].index)\n",
    "\n",
    "if len(object_cols) == 0:\n",
    "    print('The data frame does not include categorical variables.')\n",
    "else:\n",
    "    print(\"Categorical variables are:\", object_cols)\n"
   ]
  },
  {
   "cell_type": "code",
   "execution_count": null,
   "id": "e88fbd34-43c8-4c97-800f-168a93315018",
   "metadata": {},
   "outputs": [],
   "source": []
  },
  {
   "cell_type": "markdown",
   "id": "1efa694d-b68b-4b55-b352-9ade3285ee56",
   "metadata": {
    "tags": []
   },
   "source": [
    "## Data preprocessing (missing values, scaling. etc)"
   ]
  },
  {
   "cell_type": "markdown",
   "id": "2460db34-f1ce-431c-9466-9a41fa3999f6",
   "metadata": {},
   "source": [
    "### Data Celaning"
   ]
  },
  {
   "cell_type": "markdown",
   "id": "25640512-5725-4df6-b080-ee0318027cce",
   "metadata": {},
   "source": [
    "#### Missing values"
   ]
  },
  {
   "cell_type": "markdown",
   "id": "31c8a9f8-b31a-4bf5-bb4b-6b25ca7d8827",
   "metadata": {},
   "source": [
    "Is there any missing values?"
   ]
  },
  {
   "cell_type": "code",
   "execution_count": 42,
   "id": "592bc901-29be-4889-859e-15b83404fa9c",
   "metadata": {},
   "outputs": [
    {
     "name": "stdout",
     "output_type": "stream",
     "text": [
      "There are no missing values in this dataset.\n"
     ]
    }
   ],
   "source": [
    "missing_val_count_by_column = (df.isnull().sum()).sort_values(ascending=False) # A series of features with missing data\n",
    "\n",
    "if missing_val_count_by_column[missing_val_count_by_column > 0].shape[0] > 1:\n",
    "    total_num_of_cells = np.product(df.shape)\n",
    "    total_num_of_missing = missing_val_count_by_column.sum\n",
    "\n",
    "    # percent of data that is missing\n",
    "    percent_missing = (total_num_of_missing/total_num_of_cells) * 100\n",
    "    print('%.2f %% of data is missing.\\n' % percent_missing)\n",
    "    print(missing_val_count_by_column[missing_val_count_by_column > 0])\n",
    "else:\n",
    "    print('There are no missing values in this dataset.')"
   ]
  },
  {
   "cell_type": "markdown",
   "id": "43e734e1-7843-4798-a044-167e81894b6c",
   "metadata": {},
   "source": [
    "What is the relationship between the variables?"
   ]
  },
  {
   "cell_type": "code",
   "execution_count": 33,
   "id": "b6026571-2635-405a-9124-987107dcd326",
   "metadata": {},
   "outputs": [
    {
     "data": {
      "image/png": "[encoded data removed]",
      "text/plain": [
       "<Figure size 720x720 with 2 Axes>"
      ]
     },
     "metadata": {
      "needs_background": "light"
     },
     "output_type": "display_data"
    }
   ],
   "source": [
    "correlation = glass.corr()\n",
    "\n",
    "#sns.heatmap(correlation, xticklabels=correlation.columns, yticklabels=correlation.columns, annot=True)\n",
    "plt.figure(figsize=(10,10))\n",
    "sns.heatmap(correlation, cbar = True,  square = True, annot=True, fmt= '.2f', annot_kws={'size': 10},\n",
    "           xticklabels= glass.columns, yticklabels= features) #, alpha = 0.7, cmap= 'coolwarm')\n",
    "plt.show()"
   ]
  },
  {
   "cell_type": "code",
   "execution_count": null,
   "id": "55a90901-7088-4678-bf90-67399865bfc3",
   "metadata": {},
   "outputs": [],
   "source": []
  },
  {
   "cell_type": "markdown",
   "id": "54792e25-8001-4b26-bcd7-b7700d37f9e9",
   "metadata": {},
   "source": [
    "The heat map above shows that there is a strong relationship between RI and Ca. This ...(gives a hint? heads up?)... that it worths to gain some domain information to understand these features' relationship better."
   ]
  },
  {
   "cell_type": "code",
   "execution_count": null,
   "id": "aa37d7ae-39bb-4ee7-b455-0d8b63f02fa3",
   "metadata": {},
   "outputs": [],
   "source": [
    "#help(sns.heatmap)"
   ]
  },
  {
   "cell_type": "code",
   "execution_count": null,
   "id": "2c2a286b-0584-47a8-8cf7-9a3bd69c16c4",
   "metadata": {},
   "outputs": [],
   "source": [
    "#help(sns.pairplot)\n",
    "#sns.pairplot(data, vars= ['RI','Ca'])\n",
    "\n",
    "plt.figure(figsize=(4,4))\n",
    "sns.pairplot(data)\n",
    "plt.show()"
   ]
  },
  {
   "cell_type": "code",
   "execution_count": null,
   "id": "825be5f3-f354-4ed4-84f3-5d7187d4ddc2",
   "metadata": {},
   "outputs": [],
   "source": [
    "sns.relplot(x='RI', y='Ca', hue = 'Type', data = data)"
   ]
  },
  {
   "cell_type": "code",
   "execution_count": null,
   "id": "10ca5462-d98c-40d5-8bd0-8377b8b18f24",
   "metadata": {},
   "outputs": [],
   "source": [
    "sns.histplot(data['RI'], bins=10)"
   ]
  },
  {
   "cell_type": "code",
   "execution_count": null,
   "id": "3ec60b4a-192a-423b-986c-f63161a46d84",
   "metadata": {},
   "outputs": [],
   "source": [
    "sns.displot(data['RI'], bins=10)"
   ]
  },
  {
   "cell_type": "markdown",
   "id": "6e49ae49-2b26-4940-b55e-1fab83c50cb1",
   "metadata": {},
   "source": [
    "what is the difference b/w `hisplot` and `displot`?"
   ]
  },
  {
   "cell_type": "code",
   "execution_count": null,
   "id": "a42b4d9c-f6a1-4b7a-aa80-34c329a2a480",
   "metadata": {},
   "outputs": [],
   "source": [
    "sns.catplot(y='RI', kind='box', data = data)"
   ]
  },
  {
   "cell_type": "code",
   "execution_count": null,
   "id": "c3c8290d-d2ea-412b-862c-e54e8d170273",
   "metadata": {},
   "outputs": [],
   "source": [
    "#help(sns.catplot)"
   ]
  },
  {
   "cell_type": "code",
   "execution_count": null,
   "id": "21134bf7-ce46-4a78-83bf-92ebe73ac67c",
   "metadata": {},
   "outputs": [],
   "source": [
    "data.RI.count()"
   ]
  },
  {
   "cell_type": "code",
   "execution_count": null,
   "id": "974ad8a2-1255-4a36-ad91-3b9b8fed8c4a",
   "metadata": {},
   "outputs": [],
   "source": [
    "data['RI'].count()"
   ]
  },
  {
   "cell_type": "markdown",
   "id": "5a6c7afd-4b82-4a99-8208-21c414baf1b5",
   "metadata": {},
   "source": []
  },
  {
   "cell_type": "code",
   "execution_count": null,
   "id": "40f6fd99-c2c4-4788-bf88-f56c80e96c08",
   "metadata": {
    "tags": []
   },
   "outputs": [],
   "source": []
  },
  {
   "cell_type": "markdown",
   "id": "b19c4e0a-e29c-42f8-858a-5ab17d602a9b",
   "metadata": {},
   "source": [
    "An alternative dependent and independent data selectionReturn item and drop from frameReturn item and drop from frame"
   ]
  },
  {
   "cell_type": "code",
   "execution_count": 3,
   "id": "74b0a63c-dfae-4c5e-8b21-6df9146c1396",
   "metadata": {},
   "outputs": [],
   "source": [
    "X = df.copy() # original data frame is copied to another data frame to avoid data loss\n",
    "y = X.pop('Type') # Return item and drop from frame. Recorded into target variable as series object"
   ]
  },
  {
   "cell_type": "code",
   "execution_count": null,
   "id": "ce171044-25ba-4d36-87c3-209c8700a66b",
   "metadata": {},
   "outputs": [],
   "source": []
  },
  {
   "cell_type": "code",
   "execution_count": null,
   "id": "e1565b75-b372-457c-a157-9e9a6f264f51",
   "metadata": {},
   "outputs": [],
   "source": []
  },
  {
   "cell_type": "markdown",
   "id": "985cb738-1265-4829-8b35-0569ca9df58f",
   "metadata": {},
   "source": [
    "# 3 - Models <a class=\"anchor\" id=\"chapter3\"></a>"
   ]
  },
  {
   "cell_type": "code",
   "execution_count": null,
   "id": "d1d06eef-454a-461d-88ce-ed7ec16c8280",
   "metadata": {},
   "outputs": [],
   "source": []
  }
 ],
 "metadata": {
  "kernelspec": {
   "display_name": "Python 3 (ipykernel)",
   "language": "python",
   "name": "python3"
  },
  "language_info": {
   "codemirror_mode": {
    "name": "ipython",
    "version": 3
   },
   "file_extension": ".py",
   "mimetype": "text/x-python",
   "name": "python",
   "nbconvert_exporter": "python",
   "pygments_lexer": "ipython3",
   "version": "3.9.7"
  }
 },
 "nbformat": 4,
 "nbformat_minor": 5
}
